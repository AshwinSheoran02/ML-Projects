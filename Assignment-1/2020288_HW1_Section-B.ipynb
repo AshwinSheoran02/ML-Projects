{
 "cells": [
  {
   "cell_type": "code",
   "execution_count": 62,
   "metadata": {
    "id": "qCAebNefgERz"
   },
   "outputs": [],
   "source": [
    "import pandas as pd\n",
    "import numpy as np \n",
    "import matplotlib.pyplot as plt  \n",
    " "
   ]
  },
  {
   "cell_type": "code",
   "execution_count": 63,
   "metadata": {
    "id": "OR14UCfBgER2"
   },
   "outputs": [
    {
     "data": {
      "text/html": [
       "<div>\n",
       "<style scoped>\n",
       "    .dataframe tbody tr th:only-of-type {\n",
       "        vertical-align: middle;\n",
       "    }\n",
       "\n",
       "    .dataframe tbody tr th {\n",
       "        vertical-align: top;\n",
       "    }\n",
       "\n",
       "    .dataframe thead th {\n",
       "        text-align: right;\n",
       "    }\n",
       "</style>\n",
       "<table border=\"1\" class=\"dataframe\">\n",
       "  <thead>\n",
       "    <tr style=\"text-align: right;\">\n",
       "      <th></th>\n",
       "      <th>No</th>\n",
       "      <th>X1 transaction date</th>\n",
       "      <th>X2 house age</th>\n",
       "      <th>X3 distance to the nearest MRT station</th>\n",
       "      <th>X4 number of convenience stores</th>\n",
       "      <th>X5 latitude</th>\n",
       "      <th>X6 longitude</th>\n",
       "      <th>Y house price of unit area</th>\n",
       "    </tr>\n",
       "  </thead>\n",
       "  <tbody>\n",
       "    <tr>\n",
       "      <th>0</th>\n",
       "      <td>1</td>\n",
       "      <td>2012.917</td>\n",
       "      <td>32.0</td>\n",
       "      <td>84.87882</td>\n",
       "      <td>10</td>\n",
       "      <td>24.98298</td>\n",
       "      <td>121.54024</td>\n",
       "      <td>37.9</td>\n",
       "    </tr>\n",
       "    <tr>\n",
       "      <th>1</th>\n",
       "      <td>2</td>\n",
       "      <td>2012.917</td>\n",
       "      <td>19.5</td>\n",
       "      <td>306.59470</td>\n",
       "      <td>9</td>\n",
       "      <td>24.98034</td>\n",
       "      <td>121.53951</td>\n",
       "      <td>42.2</td>\n",
       "    </tr>\n",
       "    <tr>\n",
       "      <th>2</th>\n",
       "      <td>3</td>\n",
       "      <td>2013.583</td>\n",
       "      <td>13.3</td>\n",
       "      <td>561.98450</td>\n",
       "      <td>5</td>\n",
       "      <td>24.98746</td>\n",
       "      <td>121.54391</td>\n",
       "      <td>47.3</td>\n",
       "    </tr>\n",
       "    <tr>\n",
       "      <th>3</th>\n",
       "      <td>4</td>\n",
       "      <td>2013.500</td>\n",
       "      <td>13.3</td>\n",
       "      <td>561.98450</td>\n",
       "      <td>5</td>\n",
       "      <td>24.98746</td>\n",
       "      <td>121.54391</td>\n",
       "      <td>54.8</td>\n",
       "    </tr>\n",
       "    <tr>\n",
       "      <th>4</th>\n",
       "      <td>5</td>\n",
       "      <td>2012.833</td>\n",
       "      <td>5.0</td>\n",
       "      <td>390.56840</td>\n",
       "      <td>5</td>\n",
       "      <td>24.97937</td>\n",
       "      <td>121.54245</td>\n",
       "      <td>43.1</td>\n",
       "    </tr>\n",
       "    <tr>\n",
       "      <th>...</th>\n",
       "      <td>...</td>\n",
       "      <td>...</td>\n",
       "      <td>...</td>\n",
       "      <td>...</td>\n",
       "      <td>...</td>\n",
       "      <td>...</td>\n",
       "      <td>...</td>\n",
       "      <td>...</td>\n",
       "    </tr>\n",
       "    <tr>\n",
       "      <th>409</th>\n",
       "      <td>410</td>\n",
       "      <td>2013.000</td>\n",
       "      <td>13.7</td>\n",
       "      <td>4082.01500</td>\n",
       "      <td>0</td>\n",
       "      <td>24.94155</td>\n",
       "      <td>121.50381</td>\n",
       "      <td>15.4</td>\n",
       "    </tr>\n",
       "    <tr>\n",
       "      <th>410</th>\n",
       "      <td>411</td>\n",
       "      <td>2012.667</td>\n",
       "      <td>5.6</td>\n",
       "      <td>90.45606</td>\n",
       "      <td>9</td>\n",
       "      <td>24.97433</td>\n",
       "      <td>121.54310</td>\n",
       "      <td>50.0</td>\n",
       "    </tr>\n",
       "    <tr>\n",
       "      <th>411</th>\n",
       "      <td>412</td>\n",
       "      <td>2013.250</td>\n",
       "      <td>18.8</td>\n",
       "      <td>390.96960</td>\n",
       "      <td>7</td>\n",
       "      <td>24.97923</td>\n",
       "      <td>121.53986</td>\n",
       "      <td>40.6</td>\n",
       "    </tr>\n",
       "    <tr>\n",
       "      <th>412</th>\n",
       "      <td>413</td>\n",
       "      <td>2013.000</td>\n",
       "      <td>8.1</td>\n",
       "      <td>104.81010</td>\n",
       "      <td>5</td>\n",
       "      <td>24.96674</td>\n",
       "      <td>121.54067</td>\n",
       "      <td>52.5</td>\n",
       "    </tr>\n",
       "    <tr>\n",
       "      <th>413</th>\n",
       "      <td>414</td>\n",
       "      <td>2013.500</td>\n",
       "      <td>6.5</td>\n",
       "      <td>90.45606</td>\n",
       "      <td>9</td>\n",
       "      <td>24.97433</td>\n",
       "      <td>121.54310</td>\n",
       "      <td>63.9</td>\n",
       "    </tr>\n",
       "  </tbody>\n",
       "</table>\n",
       "<p>414 rows × 8 columns</p>\n",
       "</div>"
      ],
      "text/plain": [
       "      No  X1 transaction date  X2 house age  \\\n",
       "0      1             2012.917          32.0   \n",
       "1      2             2012.917          19.5   \n",
       "2      3             2013.583          13.3   \n",
       "3      4             2013.500          13.3   \n",
       "4      5             2012.833           5.0   \n",
       "..   ...                  ...           ...   \n",
       "409  410             2013.000          13.7   \n",
       "410  411             2012.667           5.6   \n",
       "411  412             2013.250          18.8   \n",
       "412  413             2013.000           8.1   \n",
       "413  414             2013.500           6.5   \n",
       "\n",
       "     X3 distance to the nearest MRT station  X4 number of convenience stores  \\\n",
       "0                                  84.87882                               10   \n",
       "1                                 306.59470                                9   \n",
       "2                                 561.98450                                5   \n",
       "3                                 561.98450                                5   \n",
       "4                                 390.56840                                5   \n",
       "..                                      ...                              ...   \n",
       "409                              4082.01500                                0   \n",
       "410                                90.45606                                9   \n",
       "411                               390.96960                                7   \n",
       "412                               104.81010                                5   \n",
       "413                                90.45606                                9   \n",
       "\n",
       "     X5 latitude  X6 longitude  Y house price of unit area  \n",
       "0       24.98298     121.54024                        37.9  \n",
       "1       24.98034     121.53951                        42.2  \n",
       "2       24.98746     121.54391                        47.3  \n",
       "3       24.98746     121.54391                        54.8  \n",
       "4       24.97937     121.54245                        43.1  \n",
       "..           ...           ...                         ...  \n",
       "409     24.94155     121.50381                        15.4  \n",
       "410     24.97433     121.54310                        50.0  \n",
       "411     24.97923     121.53986                        40.6  \n",
       "412     24.96674     121.54067                        52.5  \n",
       "413     24.97433     121.54310                        63.9  \n",
       "\n",
       "[414 rows x 8 columns]"
      ]
     },
     "execution_count": 63,
     "metadata": {},
     "output_type": "execute_result"
    }
   ],
   "source": [
    "df = pd.read_csv (r'Real estate.csv')\n",
    "df\n"
   ]
  },
  {
   "cell_type": "markdown",
   "metadata": {},
   "source": [
    "### 1. Linear regression from scratch for K-Fold "
   ]
  },
  {
   "cell_type": "code",
   "execution_count": 64,
   "metadata": {
    "id": "5m4-YkNNgER3"
   },
   "outputs": [],
   "source": [
    "def model(X, Y, learning_rate, epochs):\n",
    "    \n",
    "    theta = np.ones((X.shape[1], 1)) \n",
    "\n",
    "\n",
    "    for i in range(epochs):\n",
    "        y_pred = np.dot(X, theta)\n",
    "        del_theta = (1/Y.size)*np.dot(X.T, y_pred - Y)   # d_theta for gradient descent (Reference)\n",
    "        theta = theta - learning_rate*del_theta   # Lecture-3 , 11th Slide (Reference)\n",
    "\n",
    "    return theta   ## Returning the final value of theta after all the epochs\n",
    "\n",
    "\n",
    "epochs = 100000\n",
    "learning_rate = 0.0000003\n",
    "\n",
    "def check_error(X_test , Y_test , theta):\n",
    "    \n",
    "    y_pred = np.dot(X_test, theta)\n",
    "\n",
    "    print(\"RMSE Error (validation loss) is \")\n",
    "    print((np.sum(((abs(Y_test - y_pred))**2))/Y_test.shape[0])**0.5)\n",
    "    return ((np.sum(((abs(Y_test - y_pred))**2))/Y_test.shape[0])**0.5)\n",
    "\n",
    "\n",
    "# We are using del_theta by differentiating theta and then changing it according to gradient descent and then using the learning rate, and then using the theta; we finally got after all the epochs.\n",
    "# Then we computer RMSE and print it.\n",
    "\n"
   ]
  },
  {
   "cell_type": "markdown",
   "metadata": {
    "id": "4Ne1wVSRgER4"
   },
   "source": [
    "#### 2-Fold Validation"
   ]
  },
  {
   "cell_type": "code",
   "execution_count": 65,
   "metadata": {
    "id": "vWlr_yVkgER5"
   },
   "outputs": [],
   "source": [
    "fold2_1 = df.loc[0:206]         ######## # 2-Fold validation using indexing                                    \n",
    "fold2_2 = df.loc[207:413]  \n",
    "\n",
    "\n",
    "train_val2_1 = fold2_1\n",
    "test_val2_1 = fold2_2\n",
    "\n",
    "train_val2_2 = fold2_2\n",
    "test_val2_2 = fold2_1"
   ]
  },
  {
   "cell_type": "code",
   "execution_count": 66,
   "metadata": {
    "id": "_CG11bGHgER5"
   },
   "outputs": [],
   "source": [
    "## Creating the data folds\n",
    "Xtrain_2_1 = train_val2_1[['X1 transaction date', 'X2 house age' ,'X3 distance to the nearest MRT station' , 'X4 number of convenience stores' ,'X5 latitude' , 'X6 longitude'  ]]\n",
    "ytrain_2_1 =  train_val2_1[['Y house price of unit area']]\n",
    "\n",
    "Xtest_2_1  = test_val2_1[['X1 transaction date', 'X2 house age' ,'X3 distance to the nearest MRT station' , 'X4 number of convenience stores' ,'X5 latitude' , 'X6 longitude'  ]]\n",
    "ytest_2_1  = test_val2_1[['Y house price of unit area']]\n",
    "\n",
    "Xtrain_2_1 = Xtrain_2_1.values\n",
    "ytrain_2_1 = ytrain_2_1.values\n",
    "Xtest_2_1 = Xtest_2_1.values\n",
    "ytest_2_1 = ytest_2_1.values\n",
    "\n",
    "###############\n",
    "Xtrain_2_2 = train_val2_2[['X1 transaction date', 'X2 house age' ,'X3 distance to the nearest MRT station' , 'X4 number of convenience stores' ,'X5 latitude' , 'X6 longitude'  ]]\n",
    "ytrain_2_2 =  train_val2_2[['Y house price of unit area']]\n",
    "\n",
    "Xtest_2_2  = test_val2_2[['X1 transaction date', 'X2 house age' ,'X3 distance to the nearest MRT station' , 'X4 number of convenience stores' ,'X5 latitude' , 'X6 longitude'  ]]\n",
    "ytest_2_2  = test_val2_2[['Y house price of unit area']]\n",
    "\n",
    "Xtrain_2_2 = Xtrain_2_2.values\n",
    "ytrain_2_2 = ytrain_2_2.values\n",
    "Xtest_2_2 = Xtest_2_2.values\n",
    "ytest_2_2 = ytest_2_2.values\n",
    "error_2 = 0"
   ]
  },
  {
   "cell_type": "code",
   "execution_count": 67,
   "metadata": {
    "colab": {
     "base_uri": "https://localhost:8080/"
    },
    "id": "ZkjwpZ7dgER6",
    "outputId": "00431c0f-4419-4b3c-cb17-47f048ded5c5"
   },
   "outputs": [
    {
     "name": "stdout",
     "output_type": "stream",
     "text": [
      "RMSE Error (validation loss) is \n",
      "8.532699964334336\n"
     ]
    }
   ],
   "source": [
    "theta = model(Xtrain_2_2, ytrain_2_2,  learning_rate, epochs)   ##Finding the error\n",
    "error_2 = error_2 +check_error(Xtest_2_2 , ytest_2_2 ,  theta)"
   ]
  },
  {
   "cell_type": "code",
   "execution_count": 68,
   "metadata": {
    "colab": {
     "base_uri": "https://localhost:8080/"
    },
    "id": "LCTwaArogER9",
    "outputId": "6cf7e529-28b9-4e41-a19c-b7c059f172a9"
   },
   "outputs": [
    {
     "name": "stdout",
     "output_type": "stream",
     "text": [
      "RMSE Error (validation loss) is \n",
      "10.053264512127068\n"
     ]
    }
   ],
   "source": [
    "theta = model(Xtrain_2_1, ytrain_2_1,  learning_rate, epochs)\n",
    "error_2 = error_2 +check_error(Xtest_2_1 , ytest_2_1 ,  theta)"
   ]
  },
  {
   "cell_type": "code",
   "execution_count": 69,
   "metadata": {
    "colab": {
     "base_uri": "https://localhost:8080/"
    },
    "id": "FtMyP8I5gER-",
    "outputId": "7d126f78-7613-4c24-af30-aaa4066e3a81"
   },
   "outputs": [
    {
     "name": "stdout",
     "output_type": "stream",
     "text": [
      "The MEAN RMSE error for K-fold when K is 2 is 9.292982238230703%\n"
     ]
    }
   ],
   "source": [
    "print(\"The MEAN RMSE error for K-fold when K is 2 is \"+str(error_2/2)+\"%\")\n"
   ]
  },
  {
   "cell_type": "markdown",
   "metadata": {
    "id": "tWNFvY_1gER_"
   },
   "source": [
    "#### 3-Fold Validation"
   ]
  },
  {
   "cell_type": "code",
   "execution_count": 70,
   "metadata": {
    "id": "xHWHkLT_gER_"
   },
   "outputs": [],
   "source": [
    "fold3_1 = df.loc[0:137]         ######## # 3-Fold validation                                     \n",
    "fold3_2 = df.loc[138:275]  \n",
    "fold3_3 = df.loc[276:413]\n",
    "\n",
    "train_val3_1 = pd.concat([fold3_1, fold3_2])   \n",
    "test_val3_1 = fold3_3\n",
    "\n",
    "train_val3_2 = pd.concat([fold3_1,  fold3_3])\n",
    "test_val3_2 = fold3_2\n",
    "\n",
    "train_val3_3 = pd.concat([ fold3_2, fold3_2])\n",
    "test_val3_3 = fold3_1"
   ]
  },
  {
   "cell_type": "code",
   "execution_count": 71,
   "metadata": {
    "id": "Njg3wJUDgESA"
   },
   "outputs": [],
   "source": [
    "Xtrain_3_1 = train_val3_1[['X1 transaction date', 'X2 house age' ,'X3 distance to the nearest MRT station' , 'X4 number of convenience stores' ,'X5 latitude' , 'X6 longitude'  ]]\n",
    "ytrain_3_1 =  train_val3_1[['Y house price of unit area']]\n",
    "\n",
    "Xtest_3_1  = test_val3_1[['X1 transaction date', 'X2 house age' ,'X3 distance to the nearest MRT station' , 'X4 number of convenience stores' ,'X5 latitude' , 'X6 longitude'  ]]\n",
    "ytest_3_1  = test_val3_1[['Y house price of unit area']]\n",
    "\n",
    "Xtrain_3_1 = Xtrain_3_1.values\n",
    "ytrain_3_1 = ytrain_3_1.values\n",
    "Xtest_3_1 = Xtest_3_1.values\n",
    "ytest_3_1 = ytest_3_1.values\n",
    "###############\n",
    "Xtrain_3_2 = train_val3_2[['X1 transaction date', 'X2 house age' ,'X3 distance to the nearest MRT station' , 'X4 number of convenience stores' ,'X5 latitude' , 'X6 longitude'  ]]\n",
    "ytrain_3_2 =  train_val3_2[['Y house price of unit area']]\n",
    "\n",
    "Xtest_3_2  = test_val3_2[['X1 transaction date', 'X2 house age' ,'X3 distance to the nearest MRT station' , 'X4 number of convenience stores' ,'X5 latitude' , 'X6 longitude'  ]]\n",
    "ytest_3_2  = test_val3_2[['Y house price of unit area']]\n",
    "\n",
    "Xtrain_3_2 = Xtrain_3_2.values\n",
    "ytrain_3_2 = ytrain_3_2.values\n",
    "Xtest_3_2 = Xtest_3_2.values\n",
    "ytest_3_2 = ytest_3_2.values\n",
    "###############\n",
    "Xtrain_3_3 = train_val3_3[['X1 transaction date', 'X2 house age' ,'X3 distance to the nearest MRT station' , 'X4 number of convenience stores' ,'X5 latitude' , 'X6 longitude'  ]]\n",
    "ytrain_3_3 =  train_val3_3[['Y house price of unit area']]\n",
    "\n",
    "Xtest_3_3  = test_val3_3[['X1 transaction date', 'X2 house age' ,'X3 distance to the nearest MRT station' , 'X4 number of convenience stores' ,'X5 latitude' , 'X6 longitude'  ]]\n",
    "ytest_3_3  = test_val3_3[['Y house price of unit area']]\n",
    "\n",
    "Xtrain_3_3 = Xtrain_3_3.values\n",
    "ytrain_3_3 = ytrain_3_3.values\n",
    "Xtest_3_3 = Xtest_3_3.values\n",
    "ytest_3_3 = ytest_3_3.values\n",
    "\n",
    "error_3 = 0"
   ]
  },
  {
   "cell_type": "code",
   "execution_count": 72,
   "metadata": {
    "colab": {
     "base_uri": "https://localhost:8080/"
    },
    "id": "zkOfv6CmgESB",
    "outputId": "3d7151db-7dee-4311-b98c-a5d1b0f02e77"
   },
   "outputs": [
    {
     "name": "stdout",
     "output_type": "stream",
     "text": [
      "RMSE Error (validation loss) is \n",
      "8.375146601613574\n"
     ]
    }
   ],
   "source": [
    "theta = model(Xtrain_3_1, ytrain_3_1,  learning_rate, epochs)\n",
    "error_3 = error_3 +check_error(Xtest_3_1 , ytest_3_1 ,  theta)"
   ]
  },
  {
   "cell_type": "code",
   "execution_count": 73,
   "metadata": {
    "colab": {
     "base_uri": "https://localhost:8080/"
    },
    "id": "jtGyv-KpgESB",
    "outputId": "dcdbceee-e88b-4ad7-9b63-39c95906d446"
   },
   "outputs": [
    {
     "name": "stdout",
     "output_type": "stream",
     "text": [
      "RMSE Error (validation loss) is \n",
      "10.485648986940063\n"
     ]
    }
   ],
   "source": [
    "theta = model(Xtrain_3_2, ytrain_3_2,  learning_rate, epochs)\n",
    "error_3 = error_3 +check_error(Xtest_3_2 , ytest_3_2 ,  theta)"
   ]
  },
  {
   "cell_type": "code",
   "execution_count": 74,
   "metadata": {
    "colab": {
     "base_uri": "https://localhost:8080/"
    },
    "id": "3Ooh1SVPgESB",
    "outputId": "e591cde9-539e-4b63-9669-85a45458cf42"
   },
   "outputs": [
    {
     "name": "stdout",
     "output_type": "stream",
     "text": [
      "RMSE Error (validation loss) is \n",
      "8.875109098968306\n"
     ]
    }
   ],
   "source": [
    "theta = model(Xtrain_3_3, ytrain_3_3,  learning_rate, epochs)\n",
    "error_3 = error_3 +check_error(Xtest_3_3 , ytest_3_3 ,  theta)"
   ]
  },
  {
   "cell_type": "code",
   "execution_count": 75,
   "metadata": {
    "colab": {
     "base_uri": "https://localhost:8080/"
    },
    "id": "nB3URxnwgESC",
    "outputId": "ca2a6772-b1b2-454a-cc06-c9d5c8c295ab"
   },
   "outputs": [
    {
     "name": "stdout",
     "output_type": "stream",
     "text": [
      "The MEAN RMSE error for K-fold when K is 3 is 9.245301562507313%\n"
     ]
    }
   ],
   "source": [
    "print(\"The MEAN RMSE error for K-fold when K is 3 is \"+str(error_3/3)+\"%\")\n"
   ]
  },
  {
   "cell_type": "markdown",
   "metadata": {
    "id": "SEiHmrXqgESC"
   },
   "source": [
    "#### 4-Fold Validation"
   ]
  },
  {
   "cell_type": "code",
   "execution_count": 76,
   "metadata": {
    "id": "90ICYbbMgESC"
   },
   "outputs": [],
   "source": [
    "fold4_1 = df.loc[0:103]         ######## # 4-Fold validation                                     \n",
    "fold4_2 = df.loc[104:207]  \n",
    "fold4_3 = df.loc[208:311]\n",
    "fold4_4 = df.loc[312:413]\n",
    "\n",
    "train_val4_1 = pd.concat([fold4_4, fold4_2, fold4_3])   \n",
    "test_val4_1 = fold4_1\n",
    "\n",
    "train_val4_2 = pd.concat([fold4_1, fold4_2, fold4_3])   \n",
    "test_val4_2 = fold4_3\n",
    "\n",
    "train_val4_3 = pd.concat([fold4_1, fold4_2, fold4_4])\n",
    "test_val4_3 = fold4_4\n",
    "\n",
    "train_val4_4 = pd.concat([fold4_1, fold4_3, fold4_4])\n",
    "test_val4_4 = fold4_2\n",
    "\n"
   ]
  },
  {
   "cell_type": "code",
   "execution_count": 77,
   "metadata": {
    "id": "FvUai1bdgESD"
   },
   "outputs": [],
   "source": [
    "\n",
    "Xtrain_4_1 = train_val4_1[['X1 transaction date', 'X2 house age' ,'X3 distance to the nearest MRT station' , 'X4 number of convenience stores' ,'X5 latitude' , 'X6 longitude'  ]]\n",
    "ytrain_4_1 =  train_val4_1[['Y house price of unit area']]\n",
    "\n",
    "Xtest_4_1  = test_val4_1[['X1 transaction date', 'X2 house age' ,'X3 distance to the nearest MRT station' , 'X4 number of convenience stores' ,'X5 latitude' , 'X6 longitude'  ]]\n",
    "ytest_4_1  = test_val4_1[['Y house price of unit area']]\n",
    "\n",
    "Xtrain_4_1 = Xtrain_4_1.values\n",
    "ytrain_4_1 = ytrain_4_1.values\n",
    "Xtest_4_1 = Xtest_4_1.values\n",
    "ytest_4_1 = ytest_4_1.values\n",
    "###############\n",
    "Xtrain_4_2 = train_val4_2[['X1 transaction date', 'X2 house age' ,'X3 distance to the nearest MRT station' , 'X4 number of convenience stores' ,'X5 latitude' , 'X6 longitude'  ]]\n",
    "ytrain_4_2 =  train_val4_2[['Y house price of unit area']]\n",
    "\n",
    "Xtest_4_2  = test_val4_2[['X1 transaction date', 'X2 house age' ,'X3 distance to the nearest MRT station' , 'X4 number of convenience stores' ,'X5 latitude' , 'X6 longitude'  ]]\n",
    "ytest_4_2  = test_val4_2[['Y house price of unit area']]\n",
    "\n",
    "Xtrain_4_2 = Xtrain_4_2.values\n",
    "ytrain_4_2 = ytrain_4_2.values\n",
    "Xtest_4_2 = Xtest_4_2.values\n",
    "ytest_4_2 = ytest_4_2.values\n",
    "###############\n",
    "Xtrain_4_3 = train_val4_3[['X1 transaction date', 'X2 house age' ,'X3 distance to the nearest MRT station' , 'X4 number of convenience stores' ,'X5 latitude' , 'X6 longitude'  ]]\n",
    "ytrain_4_3 =  train_val4_3[['Y house price of unit area']]\n",
    "\n",
    "Xtest_4_3  = test_val4_3[['X1 transaction date', 'X2 house age' ,'X3 distance to the nearest MRT station' , 'X4 number of convenience stores' ,'X5 latitude' , 'X6 longitude'  ]]\n",
    "ytest_4_3  = test_val4_3[['Y house price of unit area']]\n",
    "\n",
    "Xtrain_4_3 = Xtrain_4_3.values\n",
    "ytrain_4_3 = ytrain_4_3.values\n",
    "Xtest_4_3 = Xtest_4_3.values\n",
    "ytest_4_3 = ytest_4_3.values\n",
    "######################\n",
    "\n",
    "Xtrain_4_4 = train_val4_4[['X1 transaction date', 'X2 house age' ,'X3 distance to the nearest MRT station' , 'X4 number of convenience stores' ,'X5 latitude' , 'X6 longitude'  ]]\n",
    "ytrain_4_4 =  train_val4_4[['Y house price of unit area']]\n",
    "\n",
    "Xtest_4_4  = test_val4_4[['X1 transaction date', 'X2 house age' ,'X3 distance to the nearest MRT station' , 'X4 number of convenience stores' ,'X5 latitude' , 'X6 longitude'  ]]\n",
    "ytest_4_4  = test_val4_4[['Y house price of unit area']]\n",
    "\n",
    "Xtrain_4_4 = Xtrain_4_4.values\n",
    "ytrain_4_4 = ytrain_4_4.values\n",
    "Xtest_4_4 = Xtest_4_4.values\n",
    "ytest_4_4 = ytest_4_4.values\n",
    "error_4 = 0\n",
    "\n"
   ]
  },
  {
   "cell_type": "code",
   "execution_count": 78,
   "metadata": {
    "colab": {
     "base_uri": "https://localhost:8080/"
    },
    "id": "2LZ7X2kSgESD",
    "outputId": "ac7dc80d-ceb5-4eef-f3cc-c04f13e05406"
   },
   "outputs": [
    {
     "name": "stdout",
     "output_type": "stream",
     "text": [
      "RMSE Error (validation loss) is \n",
      "8.989943145321277\n"
     ]
    }
   ],
   "source": [
    "theta = model(Xtrain_4_4, ytrain_4_4,  learning_rate, epochs)\n",
    "error_4 = error_4 + check_error(Xtest_4_4 , ytest_4_4 ,  theta)"
   ]
  },
  {
   "cell_type": "code",
   "execution_count": 79,
   "metadata": {
    "colab": {
     "base_uri": "https://localhost:8080/"
    },
    "id": "0Zb5u_eXgESE",
    "outputId": "81be8630-6a05-4905-8415-768149163b08"
   },
   "outputs": [
    {
     "name": "stdout",
     "output_type": "stream",
     "text": [
      "RMSE Error (validation loss) is \n",
      "11.373666976503163\n"
     ]
    }
   ],
   "source": [
    "\n",
    "theta = model(Xtrain_4_2, ytrain_4_2,  learning_rate, epochs)\n",
    "error_4 = error_4 +check_error(Xtest_4_2 , ytest_4_2 ,  theta)\n"
   ]
  },
  {
   "cell_type": "code",
   "execution_count": 80,
   "metadata": {
    "colab": {
     "base_uri": "https://localhost:8080/"
    },
    "id": "O1oumhq6gESE",
    "outputId": "b124e398-5292-4421-b16d-d6994a6df6a1"
   },
   "outputs": [
    {
     "name": "stdout",
     "output_type": "stream",
     "text": [
      "RMSE Error (validation loss) is \n",
      "8.414829010762768\n"
     ]
    }
   ],
   "source": [
    "theta = model(Xtrain_4_3, ytrain_4_3,  learning_rate, epochs)\n",
    "error_4 = error_4 +check_error(Xtest_4_3 , ytest_4_3 ,  theta)"
   ]
  },
  {
   "cell_type": "code",
   "execution_count": 81,
   "metadata": {
    "colab": {
     "base_uri": "https://localhost:8080/"
    },
    "id": "pUvDda2sgESF",
    "outputId": "cfe25c87-683b-4640-d56d-bfba8c5b6386"
   },
   "outputs": [
    {
     "name": "stdout",
     "output_type": "stream",
     "text": [
      "RMSE Error (validation loss) is \n",
      "7.865525687422206\n"
     ]
    }
   ],
   "source": [
    "theta = model(Xtrain_4_1, ytrain_4_1,  learning_rate, epochs)\n",
    "error_4 = error_4 +check_error(Xtest_4_1 , ytest_4_1 ,  theta)"
   ]
  },
  {
   "cell_type": "code",
   "execution_count": 82,
   "metadata": {
    "colab": {
     "base_uri": "https://localhost:8080/"
    },
    "id": "zvdoJxIOgESF",
    "outputId": "d36cc0f5-0c04-419f-89df-4b3203903877"
   },
   "outputs": [
    {
     "name": "stdout",
     "output_type": "stream",
     "text": [
      "The MEAN RMSE error for K-fold when K is 4 is 9.160991205002354%\n"
     ]
    }
   ],
   "source": [
    "print(\"The MEAN RMSE error for K-fold when K is 4 is \"+str(error_4/4)+\"%\")\n"
   ]
  },
  {
   "cell_type": "markdown",
   "metadata": {
    "id": "ngEYULSWgESF"
   },
   "source": [
    "#### 5-Fold Validation"
   ]
  },
  {
   "cell_type": "code",
   "execution_count": 83,
   "metadata": {
    "id": "doVkQ1N8gESG"
   },
   "outputs": [],
   "source": [
    "fold5_1 = df.loc[0:82]         ######## # 5-Fold validation                                     \n",
    "fold5_2 = df.loc[83:164]  \n",
    "fold5_3 = df.loc[165:247]\n",
    "fold5_4 = df.loc[248:329]\n",
    "fold5_5 = df.loc[330:413]\n",
    "\n",
    "\n",
    "train_val5_1 = pd.concat([fold5_1, fold5_2, fold5_3 , fold5_4])   \n",
    "test_val5_1 = fold5_5\n",
    "\n",
    "train_val5_2 = pd.concat([fold5_1, fold5_2, fold5_3 , fold5_5])   \n",
    "test_val5_2 = fold5_4\n",
    "\n",
    "train_val5_3 = pd.concat([fold5_1, fold5_2, fold5_4 , fold5_5])   \n",
    "test_val5_3 = fold5_3\n",
    "\n",
    "train_val5_4 = pd.concat([fold5_1, fold5_3, fold5_4 , fold5_5])   \n",
    "test_val5_4 = fold5_2\n",
    "\n",
    "train_val5_5 = pd.concat([fold5_2, fold5_3, fold5_4 , fold5_5])   \n",
    "test_val5_5 = fold5_1"
   ]
  },
  {
   "cell_type": "code",
   "execution_count": 84,
   "metadata": {
    "id": "dUIz7rjmgESG"
   },
   "outputs": [],
   "source": [
    "\n",
    "Xtrain_5_1 = train_val5_1[['X1 transaction date', 'X2 house age' ,'X3 distance to the nearest MRT station' , 'X4 number of convenience stores' ,'X5 latitude' , 'X6 longitude'  ]]\n",
    "ytrain_5_1 =  train_val5_1[['Y house price of unit area']]\n",
    "\n",
    "Xtest_5_1  = test_val5_1[['X1 transaction date', 'X2 house age' ,'X3 distance to the nearest MRT station' , 'X4 number of convenience stores' ,'X5 latitude' , 'X6 longitude'  ]]\n",
    "ytest_5_1  = test_val5_1[['Y house price of unit area']]\n",
    "\n",
    "Xtrain_5_1 = Xtrain_5_1.values\n",
    "ytrain_5_1 = ytrain_5_1.values\n",
    "Xtest_5_1 = Xtest_5_1.values\n",
    "ytest_5_1 = ytest_5_1.values\n",
    "###############\n",
    "Xtrain_5_2 = train_val5_2[['X1 transaction date', 'X2 house age' ,'X3 distance to the nearest MRT station' , 'X4 number of convenience stores' ,'X5 latitude' , 'X6 longitude'  ]]\n",
    "ytrain_5_2 =  train_val5_2[['Y house price of unit area']]\n",
    "\n",
    "Xtest_5_2  = test_val5_2[['X1 transaction date', 'X2 house age' ,'X3 distance to the nearest MRT station' , 'X4 number of convenience stores' ,'X5 latitude' , 'X6 longitude'  ]]\n",
    "ytest_5_2  = test_val5_2[['Y house price of unit area']]\n",
    "\n",
    "Xtrain_5_2 = Xtrain_5_2.values\n",
    "ytrain_5_2 = ytrain_5_2.values\n",
    "Xtest_5_2 = Xtest_5_2.values\n",
    "ytest_5_2 = ytest_5_2.values\n",
    "###############\n",
    "Xtrain_5_3 = train_val5_3[['X1 transaction date', 'X2 house age' ,'X3 distance to the nearest MRT station' , 'X4 number of convenience stores' ,'X5 latitude' , 'X6 longitude'  ]]\n",
    "ytrain_5_3 =  train_val5_3[['Y house price of unit area']]\n",
    "\n",
    "Xtest_5_3  = test_val5_3[['X1 transaction date', 'X2 house age' ,'X3 distance to the nearest MRT station' , 'X4 number of convenience stores' ,'X5 latitude' , 'X6 longitude'  ]]\n",
    "ytest_5_3  = test_val5_3[['Y house price of unit area']]\n",
    "\n",
    "Xtrain_5_3 = Xtrain_5_3.values\n",
    "ytrain_5_3 = ytrain_5_3.values\n",
    "Xtest_5_3 = Xtest_5_3.values\n",
    "ytest_5_3 = ytest_5_3.values\n",
    "######################\n",
    "\n",
    "Xtrain_5_4 = train_val5_4[['X1 transaction date', 'X2 house age' ,'X3 distance to the nearest MRT station' , 'X4 number of convenience stores' ,'X5 latitude' , 'X6 longitude'  ]]\n",
    "ytrain_5_4 =  train_val5_4[['Y house price of unit area']]\n",
    "\n",
    "Xtest_5_4  = test_val5_4[['X1 transaction date', 'X2 house age' ,'X3 distance to the nearest MRT station' , 'X4 number of convenience stores' ,'X5 latitude' , 'X6 longitude'  ]]\n",
    "ytest_5_4  = test_val5_4[['Y house price of unit area']]\n",
    "\n",
    "Xtrain_5_4 = Xtrain_5_4.values\n",
    "ytrain_5_4 = ytrain_5_4.values\n",
    "Xtest_5_4 = Xtest_5_4.values\n",
    "ytest_5_4 = ytest_5_4.values\n",
    "########################\n",
    "\n",
    "Xtrain_5_5 = train_val5_5[['X1 transaction date', 'X2 house age' ,'X3 distance to the nearest MRT station' , 'X4 number of convenience stores' ,'X5 latitude' , 'X6 longitude'  ]]\n",
    "ytrain_5_5 =  train_val5_5[['Y house price of unit area']]\n",
    "\n",
    "Xtest_5_5  = test_val5_5[['X1 transaction date', 'X2 house age' ,'X3 distance to the nearest MRT station' , 'X4 number of convenience stores' ,'X5 latitude' , 'X6 longitude'  ]]\n",
    "ytest_5_5  = test_val5_5[['Y house price of unit area']]\n",
    "\n",
    "Xtrain_5_5 = Xtrain_5_5.values\n",
    "ytrain_5_5 = ytrain_5_5.values\n",
    "Xtest_5_5 = Xtest_5_5.values\n",
    "ytest_5_5 = ytest_5_5.values\n",
    "\n",
    "error_5 = 0"
   ]
  },
  {
   "cell_type": "code",
   "execution_count": 85,
   "metadata": {
    "colab": {
     "base_uri": "https://localhost:8080/"
    },
    "id": "708IwLxegESG",
    "outputId": "f113fd61-e006-4961-adeb-2af458108573"
   },
   "outputs": [
    {
     "name": "stdout",
     "output_type": "stream",
     "text": [
      "RMSE Error (validation loss) is \n",
      "7.99502559440744\n"
     ]
    }
   ],
   "source": [
    "theta = model(Xtrain_5_1, ytrain_5_1,  learning_rate, epochs)\n",
    "error_5 = error_5 +check_error(Xtest_5_1 , ytest_5_1 ,  theta)"
   ]
  },
  {
   "cell_type": "code",
   "execution_count": 86,
   "metadata": {
    "colab": {
     "base_uri": "https://localhost:8080/"
    },
    "id": "rnwhVy4FgESH",
    "outputId": "f20af560-65a2-4702-c3c7-72ff7f89bc98"
   },
   "outputs": [
    {
     "name": "stdout",
     "output_type": "stream",
     "text": [
      "RMSE Error (validation loss) is \n",
      "12.133008492868223\n"
     ]
    }
   ],
   "source": [
    "theta = model(Xtrain_5_2, ytrain_5_2,  learning_rate, epochs)\n",
    "error_5 = error_5 +check_error(Xtest_5_2 , ytest_5_2 ,  theta)"
   ]
  },
  {
   "cell_type": "code",
   "execution_count": 87,
   "metadata": {
    "colab": {
     "base_uri": "https://localhost:8080/"
    },
    "id": "tm9GF-NsgESH",
    "outputId": "c9be8a83-3ac5-41e6-d85c-efe0b0cca14f"
   },
   "outputs": [
    {
     "name": "stdout",
     "output_type": "stream",
     "text": [
      "RMSE Error (validation loss) is \n",
      "8.019076440891384\n"
     ]
    }
   ],
   "source": [
    "theta = model(Xtrain_5_3, ytrain_5_3,  learning_rate, epochs)\n",
    "error_5 = error_5 +check_error(Xtest_5_3 , ytest_5_3 ,  theta)"
   ]
  },
  {
   "cell_type": "code",
   "execution_count": 88,
   "metadata": {
    "colab": {
     "base_uri": "https://localhost:8080/"
    },
    "id": "2A7cJqkugESH",
    "outputId": "3ed5f957-6a8e-4d61-ec3d-ceb4524f8626"
   },
   "outputs": [
    {
     "name": "stdout",
     "output_type": "stream",
     "text": [
      "RMSE Error (validation loss) is \n",
      "9.571154949947632\n"
     ]
    }
   ],
   "source": [
    "theta = model(Xtrain_5_4, ytrain_5_4,  learning_rate, epochs)\n",
    "error_5 = error_5 +check_error(Xtest_5_4 , ytest_5_4 ,  theta)"
   ]
  },
  {
   "cell_type": "code",
   "execution_count": 89,
   "metadata": {
    "colab": {
     "base_uri": "https://localhost:8080/"
    },
    "id": "3RAzHk6hgESH",
    "outputId": "6b88aeaa-d8b1-4c7e-b134-fae065169308"
   },
   "outputs": [
    {
     "name": "stdout",
     "output_type": "stream",
     "text": [
      "RMSE Error (validation loss) is \n",
      "7.882852238542636\n"
     ]
    }
   ],
   "source": [
    "theta = model(Xtrain_5_5, ytrain_5_5,  learning_rate, epochs)\n",
    "error_5 = error_5 +check_error(Xtest_5_5 , ytest_5_5 ,  theta)"
   ]
  },
  {
   "cell_type": "code",
   "execution_count": 90,
   "metadata": {
    "colab": {
     "base_uri": "https://localhost:8080/"
    },
    "id": "-9bBhNRHgESH",
    "outputId": "84967cfd-15f8-45c0-ff82-d5c69c6315ce"
   },
   "outputs": [
    {
     "name": "stdout",
     "output_type": "stream",
     "text": [
      "The MEAN RMSE error for K-fold when K is 5 is 9.120223543331463%\n"
     ]
    }
   ],
   "source": [
    "print(\"The MEAN RMSE error for K-fold when K is 5 is \"+str(error_5/5)+\"%\")\n"
   ]
  },
  {
   "cell_type": "code",
   "execution_count": 91,
   "metadata": {
    "colab": {
     "base_uri": "https://localhost:8080/"
    },
    "id": "tBnK6bRZgESI",
    "outputId": "981d7051-fd01-4606-bb10-5721ca95faca"
   },
   "outputs": [
    {
     "name": "stdout",
     "output_type": "stream",
     "text": [
      "The MEAN RMSE error for K-fold when K is 2 is 9.292982238230703\n",
      "The MEAN RMSE error for K-fold when K is 3 is 9.245301562507313\n",
      "The MEAN RMSE error for K-fold when K is 4 is 9.160991205002354\n",
      "The MEAN RMSE error for K-fold when K is 5 is 9.120223543331463\n"
     ]
    }
   ],
   "source": [
    "print(\"The MEAN RMSE error for K-fold when K is 2 is \"+str(error_2/2))\n",
    "print(\"The MEAN RMSE error for K-fold when K is 3 is \"+str(error_3/3))\n",
    "print(\"The MEAN RMSE error for K-fold when K is 4 is \"+str(error_4/4))\n",
    "print(\"The MEAN RMSE error for K-fold when K is 5 is \"+str(error_5/5))\n"
   ]
  },
  {
   "cell_type": "markdown",
   "metadata": {
    "id": "UcIE4ykMgESI"
   },
   "source": [
    "#### The K-Fold Values for K = 3 ,4 ,5 are similiar, we will take k = 5 as it has lowest RMSE"
   ]
  },
  {
   "cell_type": "markdown",
   "metadata": {},
   "source": [
    "### 2. Plotting the RMSE V/s iteration graph for all models trained with K = 5"
   ]
  },
  {
   "cell_type": "code",
   "execution_count": 92,
   "metadata": {},
   "outputs": [],
   "source": [
    "def plotrvi(X, Y, learning_rate, epochs):\n",
    "    \n",
    "    theta = np.ones((X.shape[1], 1)) \n",
    "    cost_list = [] \n",
    "    rmse_list = []\n",
    "    m = Y.size\n",
    "    err_lst = []\n",
    "    \n",
    "\n",
    "    for i in range(epochs):\n",
    "        y_pred = np.dot(X, theta)\n",
    "        del_theta = (1/Y.size)*np.dot(X.T, y_pred - Y)   # d_theta for gradient descent\n",
    "        theta = theta - learning_rate*del_theta   # Lecture-3 , 11th Slide\n",
    "        cost = (1/(2*m))*np.sum(np.square(y_pred - Y))  # Lecture-4 , 14th Slide\n",
    "        cost_list.append(cost)\n",
    "        err = ((np.sum(((abs(Y - y_pred))**2))/Y.shape[0])**0.5)\n",
    "        err_lst.append(err)\n",
    "\n",
    "    fig, (ax1, ax2) = plt.subplots(1, 2, constrained_layout=True, figsize=(12, 4))\n",
    "\n",
    "    rng = np.arange(0, epochs)  #RMSE graph\n",
    "    ax1.plot(rng, err_lst)\n",
    "\n",
    "    ax2.plot(rng[100:] , err_lst[100:] )\n",
    "\n",
    "\n",
    "    ax1.set_title(\"RMSE vs. iteration\");  ax2.set_title(\"RMSE vs. iteration (tail)\")  ## for plotting the curve\n",
    "    ax1.set_ylabel('RMSE')             ;  ax2.set_ylabel('RMSE') \n",
    "    ax1.set_xlabel('iteration step')   ;  ax2.set_xlabel('iteration step') \n",
    "    plt.show()\n",
    "epochs = 100000\n",
    "learning_rate = 0.0000003"
   ]
  },
  {
   "cell_type": "markdown",
   "metadata": {},
   "source": [
    "The Graph will be plotted on the train value set"
   ]
  },
  {
   "cell_type": "code",
   "execution_count": 93,
   "metadata": {},
   "outputs": [
    {
     "data": {
      "image/png": "[encoded data removed]",
      "text/plain": [
       "<Figure size 864x288 with 2 Axes>"
      ]
     },
     "metadata": {
      "needs_background": "light"
     },
     "output_type": "display_data"
    },
    {
     "data": {
      "image/png": "[encoded data removed]",
      "text/plain": [
       "<Figure size 864x288 with 2 Axes>"
      ]
     },
     "metadata": {
      "needs_background": "light"
     },
     "output_type": "display_data"
    },
    {
     "data": {
      "image/png": "[encoded data removed]",
      "text/plain": [
       "<Figure size 864x288 with 2 Axes>"
      ]
     },
     "metadata": {
      "needs_background": "light"
     },
     "output_type": "display_data"
    },
    {
     "data": {
      "image/png": "[encoded data removed]",
      "text/plain": [
       "<Figure size 864x288 with 2 Axes>"
      ]
     },
     "metadata": {
      "needs_background": "light"
     },
     "output_type": "display_data"
    },
    {
     "data": {
      "image/png": "[encoded data removed]",
      "text/plain": [
       "<Figure size 864x288 with 2 Axes>"
      ]
     },
     "metadata": {
      "needs_background": "light"
     },
     "output_type": "display_data"
    }
   ],
   "source": [
    "theta = plotrvi(Xtrain_5_1, ytrain_5_1,  learning_rate, epochs)\n",
    "theta = plotrvi(Xtrain_5_2, ytrain_5_2,  learning_rate, epochs)\n",
    "theta = plotrvi(Xtrain_5_2, ytrain_5_2,  learning_rate, epochs)\n",
    "theta = plotrvi(Xtrain_5_2, ytrain_5_2,  learning_rate, epochs)\n",
    "theta = plotrvi(Xtrain_5_2, ytrain_5_2,  learning_rate, epochs)\n"
   ]
  },
  {
   "cell_type": "markdown",
   "metadata": {},
   "source": [
    "### C. Modify Regression implementation by including L1 (LASSO) and L2 (Ridge Regression) regularization."
   ]
  },
  {
   "cell_type": "markdown",
   "metadata": {},
   "source": [
    "##### Lasso Regularization L1 Loss"
   ]
  },
  {
   "cell_type": "code",
   "execution_count": 94,
   "metadata": {},
   "outputs": [],
   "source": [
    "def Lasso(X, Y, learning_rate, epochs):\n",
    "    \n",
    "    W = np.zeros((X.shape[1], 1)) \n",
    "    b= 3\n",
    "    alpha = 0.00005\n",
    "\n",
    "    for i in range(epochs):\n",
    "        y_pred = np.dot(X, W)  \n",
    "        LW = (-(2*(X.T).dot(Y - y_pred)) + (alpha))  /X.shape[0]  # Lecture-6 Slide 20 (Reference)\n",
    "        W -= learning_rate*LW\n",
    "\n",
    "    return W\n",
    "\n",
    "epochs = 100000\n",
    "learning_rate = 0.00000003\n",
    "\n",
    "def check_errorl1(X_test , Y_test , theta ):\n",
    "    \n",
    "    y_pred = np.dot(X_test, theta)\n",
    "\n",
    "\n",
    "    print(\"Training Error is \")\n",
    "    print( (np.sum(((abs(Y_test - y_pred))))/Y_test.shape[0]) )\n",
    "   \n",
    "    \n",
    "    print(\"RMSE Error (validation loss) is \")\n",
    "    print((np.sum(((abs(Y_test - y_pred))**2))/Y_test.shape[0])**0.5)\n",
    "    \n",
    "    return ((np.sum(((abs(Y_test - y_pred))**2))/Y_test.shape[0])**0.5)\n",
    "    \n",
    "\n",
    "error_5_0 = 0\n",
    "\n",
    "\n",
    "# Here we are changing the theta (W) using the parameters according to the Lasso regularisation and then changing it using the learning rate,\n",
    "#  and then finally using it after running all the epochs. Then we calculate the training and the validation error.\n"
   ]
  },
  {
   "cell_type": "code",
   "execution_count": 95,
   "metadata": {},
   "outputs": [
    {
     "name": "stdout",
     "output_type": "stream",
     "text": [
      "Training Error is \n",
      "6.204479328684476\n",
      "RMSE Error (validation loss) is \n",
      "8.463902827872234\n"
     ]
    }
   ],
   "source": [
    "W = Lasso(Xtrain_5_1, ytrain_5_1,  learning_rate, epochs)\n",
    "error_5_0 = error_5_0 +check_errorl1(Xtest_5_1 , ytest_5_1 , W )"
   ]
  },
  {
   "cell_type": "code",
   "execution_count": 96,
   "metadata": {},
   "outputs": [
    {
     "name": "stdout",
     "output_type": "stream",
     "text": [
      "Training Error is \n",
      "8.124154742861855\n",
      "RMSE Error (validation loss) is \n",
      "12.528291162682908\n"
     ]
    }
   ],
   "source": [
    "W = Lasso(Xtrain_5_2, ytrain_5_2,  learning_rate, epochs)\n",
    "error_5_0 = error_5_0 +check_errorl1(Xtest_5_2 , ytest_5_2 , W )"
   ]
  },
  {
   "cell_type": "code",
   "execution_count": 97,
   "metadata": {},
   "outputs": [
    {
     "name": "stdout",
     "output_type": "stream",
     "text": [
      "Training Error is \n",
      "6.265300323093634\n",
      "RMSE Error (validation loss) is \n",
      "8.812506829262606\n"
     ]
    }
   ],
   "source": [
    "W = Lasso(Xtrain_5_3, ytrain_5_3,  learning_rate, epochs)\n",
    "error_5_0 = error_5_0 +check_errorl1(Xtest_5_3 , ytest_5_3 , W )"
   ]
  },
  {
   "cell_type": "code",
   "execution_count": 98,
   "metadata": {},
   "outputs": [
    {
     "name": "stdout",
     "output_type": "stream",
     "text": [
      "Training Error is \n",
      "7.250823920693365\n",
      "RMSE Error (validation loss) is \n",
      "9.90730258761917\n"
     ]
    }
   ],
   "source": [
    "W = Lasso(Xtrain_5_4, ytrain_5_4,  learning_rate, epochs)\n",
    "error_5_0 = error_5_0 +check_errorl1(Xtest_5_4 , ytest_5_4 , W )"
   ]
  },
  {
   "cell_type": "code",
   "execution_count": 99,
   "metadata": {},
   "outputs": [
    {
     "name": "stdout",
     "output_type": "stream",
     "text": [
      "Training Error is \n",
      "6.6820729319740595\n",
      "RMSE Error (validation loss) is \n",
      "8.56121690121462\n"
     ]
    }
   ],
   "source": [
    "W = Lasso(Xtrain_5_5, ytrain_5_5,  learning_rate, epochs)\n",
    "error_5_0 = error_5_0 +check_errorl1(Xtest_5_5 , ytest_5_5 , W )"
   ]
  },
  {
   "cell_type": "code",
   "execution_count": 100,
   "metadata": {},
   "outputs": [
    {
     "name": "stdout",
     "output_type": "stream",
     "text": [
      "The RMSE error for Lasso Regularization when K is 5 is 9.654644061730309\n"
     ]
    }
   ],
   "source": [
    "print(\"The RMSE error for Lasso Regularization when K is 5 is \"+str(error_5_0/5))\n"
   ]
  },
  {
   "cell_type": "markdown",
   "metadata": {},
   "source": [
    "##### The RMSE is coming 9.654644061943909 for Lasso regularization"
   ]
  },
  {
   "cell_type": "code",
   "execution_count": 101,
   "metadata": {},
   "outputs": [],
   "source": [
    "epochs = 100000\n",
    "learning_rate = 0.00000003\n",
    "\n",
    "def PlotLasso(X, Y, learning_rate, epochs , X_test , Y_test):\n",
    "    \n",
    "    W = np.zeros((X.shape[1], 1)) \n",
    "    b= 3\n",
    "    alpha = 0.000005\n",
    "    err_lst=[]\n",
    "    train_err_lst=[]\n",
    "    # print(W.shape)\n",
    "\n",
    "    for i in range(epochs):\n",
    "        y_pred = np.dot(X, W)  \n",
    "        LW = (-(2*(X.T).dot(Y - y_pred)) + (alpha))  /X.shape[0]  # Lecture-6 Slide 20 (Reference)\n",
    "        W -= learning_rate*LW\n",
    "        y_pred = np.dot(X, W)\n",
    "        err = (np.sum(((abs(Y - y_pred))**2))/Y.shape[0])**0.5   ## val loss\n",
    "        train_err = (np.sum(((abs(Y - y_pred))))/Y.shape[0])\n",
    "        err_lst.append(err)    ## adding the error to the list\n",
    "        train_err_lst.append(train_err)\n",
    "\n",
    "    fig, (ax1, ax2) = plt.subplots(1, 2, constrained_layout=True, figsize=(12, 4))\n",
    "\n",
    "    rng = np.arange(0, epochs)  #RMSE graph\n",
    "    ax1.plot(rng, err_lst, label = \"Validation Error\")\n",
    "    ax1.plot(rng , train_err_lst , label = \"Training Error\")\n",
    "\n",
    "    ax2.plot(rng[100:] , err_lst[100:] , label = \"Validation Error\" )\n",
    "    ax2.plot(rng[100:] , train_err_lst[100:] , label = \"Training Error\")\n",
    "\n",
    "    ax1.set_title(\"Error vs. iteration\");  ax2.set_title(\"Error vs. iteration (tail)\")\n",
    "    ax1.set_ylabel('RMSE')             ;  ax2.set_ylabel('RMSE') \n",
    "    ax1.set_xlabel('iteration step')   ;  ax2.set_xlabel('iteration step') \n",
    "    plt.show()\n",
    "\n",
    "    # return W\n",
    "    theta = W\n",
    "\n",
    "    y_pred = np.dot(X_test, theta)\n",
    "\n",
    "    return ((np.sum(((abs(Y_test - y_pred))**2))/Y_test.shape[0])**0.5)\n",
    "    \n",
    "\n"
   ]
  },
  {
   "cell_type": "code",
   "execution_count": 102,
   "metadata": {},
   "outputs": [
    {
     "data": {
      "image/png": "[encoded data removed]",
      "text/plain": [
       "<Figure size 864x288 with 2 Axes>"
      ]
     },
     "metadata": {
      "needs_background": "light"
     },
     "output_type": "display_data"
    },
    {
     "data": {
      "image/png": "[encoded data removed]",
      "text/plain": [
       "<Figure size 864x288 with 2 Axes>"
      ]
     },
     "metadata": {
      "needs_background": "light"
     },
     "output_type": "display_data"
    },
    {
     "data": {
      "image/png": "[encoded data removed]",
      "text/plain": [
       "<Figure size 864x288 with 2 Axes>"
      ]
     },
     "metadata": {
      "needs_background": "light"
     },
     "output_type": "display_data"
    },
    {
     "data": {
      "image/png": "[encoded data removed]",
      "text/plain": [
       "<Figure size 864x288 with 2 Axes>"
      ]
     },
     "metadata": {
      "needs_background": "light"
     },
     "output_type": "display_data"
    },
    {
     "data": {
      "image/png": "[encoded data removed]",
      "text/plain": [
       "<Figure size 864x288 with 2 Axes>"
      ]
     },
     "metadata": {
      "needs_background": "light"
     },
     "output_type": "display_data"
    }
   ],
   "source": [
    "theta = PlotLasso(Xtrain_5_1, ytrain_5_1,  learning_rate, epochs , Xtest_5_1 , ytest_5_1)\n",
    "theta = PlotLasso(Xtrain_5_2, ytrain_5_2,  learning_rate, epochs, Xtest_5_2 , ytest_5_2)\n",
    "theta = PlotLasso(Xtrain_5_2, ytrain_5_2,  learning_rate, epochs, Xtest_5_3 , ytest_5_3)\n",
    "theta = PlotLasso(Xtrain_5_2, ytrain_5_2,  learning_rate, epochs, Xtest_5_4 , ytest_5_4)\n",
    "theta = PlotLasso(Xtrain_5_2, ytrain_5_2,  learning_rate, epochs, Xtest_5_5 , ytest_5_5)\n"
   ]
  },
  {
   "cell_type": "markdown",
   "metadata": {},
   "source": [
    "#### Ridge Regularization L2 Loss"
   ]
  },
  {
   "cell_type": "code",
   "execution_count": 103,
   "metadata": {},
   "outputs": [],
   "source": [
    "def Ridge(X, Y, learning_rate, epochs):\n",
    "    \n",
    "    W = np.zeros((X.shape[1], 1)) \n",
    "    b= 3\n",
    "    alpha = 0.00005\n",
    "    print(W.shape)\n",
    "\n",
    "    for i in range(epochs):\n",
    "        y_pred = np.dot(X, W)  \n",
    "        LW = (-(2*(X.T).dot(Y - y_pred)) + (2*alpha*W))  /X.shape[0]  # Lecture-6 Slide 13\n",
    "        W -= learning_rate*LW\n",
    "\n",
    "    return W\n",
    "\n",
    "epochs = 100000\n",
    "learning_rate = 0.00000003\n",
    "\n",
    "def check_errorl2(X_test , Y_test , theta ):\n",
    "    \n",
    "    y_pred = np.dot(X_test, theta)\n",
    "\n",
    "\n",
    "    print(\"Training Error is \")\n",
    "    print( (np.sum(((abs(Y_test - y_pred))))/Y_test.shape[0]) )\n",
    "   \n",
    "    \n",
    "    print(\"RMSE Error (validation loss) is \")\n",
    "    print((np.sum(((abs(Y_test - y_pred))**2))/Y_test.shape[0])**0.5)\n",
    "    \n",
    "    return ((np.sum(((abs(Y_test - y_pred))**2))/Y_test.shape[0])**0.5)\n",
    "    \n",
    "\n",
    "error_5 = 0\n",
    "\n",
    "\n",
    "# Here we are changing the theta (W) using the parameters according to the Ridge regression and then changing it using the learning rate,\n",
    "# and then finally using it after running all the epochs. Then we calculate the training and the validation error.\n"
   ]
  },
  {
   "cell_type": "code",
   "execution_count": 104,
   "metadata": {},
   "outputs": [
    {
     "name": "stdout",
     "output_type": "stream",
     "text": [
      "(6, 1)\n",
      "Training Error is \n",
      "6.204479328828235\n",
      "RMSE Error (validation loss) is \n",
      "8.4639028276228\n"
     ]
    }
   ],
   "source": [
    "W = Ridge(Xtrain_5_1, ytrain_5_1,  learning_rate, epochs)\n",
    "error_5 = error_5 +check_errorl2(Xtest_5_1 , ytest_5_1 , W )"
   ]
  },
  {
   "cell_type": "code",
   "execution_count": 105,
   "metadata": {},
   "outputs": [
    {
     "name": "stdout",
     "output_type": "stream",
     "text": [
      "(6, 1)\n",
      "Training Error is \n",
      "8.124154743045583\n",
      "RMSE Error (validation loss) is \n",
      "12.528291162841025\n"
     ]
    }
   ],
   "source": [
    "W = Ridge(Xtrain_5_2, ytrain_5_2,  learning_rate, epochs)\n",
    "error_5 = error_5 +check_errorl2(Xtest_5_2 , ytest_5_2 , W )"
   ]
  },
  {
   "cell_type": "code",
   "execution_count": 106,
   "metadata": {},
   "outputs": [
    {
     "name": "stdout",
     "output_type": "stream",
     "text": [
      "(6, 1)\n",
      "Training Error is \n",
      "6.2653003231372475\n",
      "RMSE Error (validation loss) is \n",
      "8.812506829278151\n"
     ]
    }
   ],
   "source": [
    "W = Ridge(Xtrain_5_3, ytrain_5_3,  learning_rate, epochs)\n",
    "error_5 = error_5 +check_errorl2(Xtest_5_3 , ytest_5_3 , W )"
   ]
  },
  {
   "cell_type": "code",
   "execution_count": 107,
   "metadata": {},
   "outputs": [
    {
     "name": "stdout",
     "output_type": "stream",
     "text": [
      "(6, 1)\n",
      "Training Error is \n",
      "7.250823921349585\n",
      "RMSE Error (validation loss) is \n",
      "9.907302587889326\n"
     ]
    }
   ],
   "source": [
    "W = Ridge(Xtrain_5_4, ytrain_5_4,  learning_rate, epochs)\n",
    "error_5 = error_5 +check_errorl2(Xtest_5_4 , ytest_5_4 , W )"
   ]
  },
  {
   "cell_type": "code",
   "execution_count": 108,
   "metadata": {},
   "outputs": [
    {
     "name": "stdout",
     "output_type": "stream",
     "text": [
      "(6, 1)\n",
      "Training Error is \n",
      "6.682072932762071\n",
      "RMSE Error (validation loss) is \n",
      "8.561216902088251\n"
     ]
    }
   ],
   "source": [
    "W = Ridge(Xtrain_5_5, ytrain_5_5,  learning_rate, epochs)\n",
    "error_5 = error_5 +check_errorl2(Xtest_5_5 , ytest_5_5 , W )"
   ]
  },
  {
   "cell_type": "code",
   "execution_count": 109,
   "metadata": {},
   "outputs": [
    {
     "name": "stdout",
     "output_type": "stream",
     "text": [
      "The RMSE error for Ridge Regularization when K is 5 is 9.654644061943909\n"
     ]
    }
   ],
   "source": [
    "print(\"The RMSE error for Ridge Regularization when K is 5 is \"+str(error_5/5))\n"
   ]
  },
  {
   "cell_type": "markdown",
   "metadata": {},
   "source": [
    "#### The RMSE is coming 9.654644061943909 for Ridge regularization"
   ]
  },
  {
   "cell_type": "code",
   "execution_count": 110,
   "metadata": {},
   "outputs": [],
   "source": [
    "epochs = 100000\n",
    "learning_rate = 0.00000003\n",
    "\n",
    "def PlotRidge(X, Y, learning_rate, epochs , X_test , Y_test):\n",
    "    \n",
    "    W = np.zeros((X.shape[1], 1)) \n",
    "    b= 3\n",
    "    alpha = 0.000005\n",
    "    err_lst=[]\n",
    "    train_err_lst=[]\n",
    "    # print(W.shape)\n",
    "\n",
    "    for i in range(epochs):\n",
    "        y_pred = np.dot(X, W)  \n",
    "        LW = (-(2*(X.T).dot(Y - y_pred)) + (2*alpha*W))  /X.shape[0]  # Lecture-6 Slide 13 (Reference) \n",
    "        W -= learning_rate*LW\n",
    "        y_pred = np.dot(X, W)\n",
    "        err = (np.sum(((abs(Y - y_pred))**2))/Y.shape[0])**0.5   ## val loss\n",
    "        train_err = (np.sum(((abs(Y - y_pred))))/Y.shape[0])    \n",
    "        err_lst.append(err)     ## adding the error to the lost\n",
    "        train_err_lst.append(train_err)\n",
    "\n",
    "    fig, (ax1, ax2) = plt.subplots(1, 2, constrained_layout=True, figsize=(12, 4))\n",
    "\n",
    "    rng = np.arange(0, epochs)  #RMSE graph\n",
    "    ax1.plot(rng, err_lst, label = \"Validation Error\")\n",
    "    ax1.plot(rng , train_err_lst , label = \"Training Error\")\n",
    "\n",
    "    ax2.plot(rng[100:] , err_lst[100:] , label = \"Validation Error\" )\n",
    "    ax2.plot(rng[100:] , train_err_lst[100:] , label = \"Training Error\")\n",
    "\n",
    "    ax1.set_title(\"Error vs. iteration\");  ax2.set_title(\"Error vs. iteration (tail)\")\n",
    "    ax1.set_ylabel('RMSE')             ;  ax2.set_ylabel('RMSE') \n",
    "    ax1.set_xlabel('iteration step')   ;  ax2.set_xlabel('iteration step') \n",
    "    plt.show()\n",
    "\n",
    "    # return W\n",
    "    theta = W\n",
    "\n",
    "    y_pred = np.dot(X_test, theta)\n",
    "\n",
    "    return ((np.sum(((abs(Y_test - y_pred))**2))/Y_test.shape[0])**0.5)\n",
    "    \n",
    "\n",
    "error_5 = 0\n"
   ]
  },
  {
   "cell_type": "code",
   "execution_count": 111,
   "metadata": {},
   "outputs": [
    {
     "data": {
      "image/png": "[encoded data removed]",
      "text/plain": [
       "<Figure size 864x288 with 2 Axes>"
      ]
     },
     "metadata": {
      "needs_background": "light"
     },
     "output_type": "display_data"
    },
    {
     "data": {
      "image/png": "[encoded data removed]",
      "text/plain": [
       "<Figure size 864x288 with 2 Axes>"
      ]
     },
     "metadata": {
      "needs_background": "light"
     },
     "output_type": "display_data"
    },
    {
     "data": {
      "image/png": "[encoded data removed]",
      "text/plain": [
       "<Figure size 864x288 with 2 Axes>"
      ]
     },
     "metadata": {
      "needs_background": "light"
     },
     "output_type": "display_data"
    },
    {
     "data": {
      "image/png": "[encoded data removed]",
      "text/plain": [
       "<Figure size 864x288 with 2 Axes>"
      ]
     },
     "metadata": {
      "needs_background": "light"
     },
     "output_type": "display_data"
    },
    {
     "data": {
      "image/png": "[encoded data removed]",
      "text/plain": [
       "<Figure size 864x288 with 2 Axes>"
      ]
     },
     "metadata": {
      "needs_background": "light"
     },
     "output_type": "display_data"
    }
   ],
   "source": [
    "theta = PlotRidge(Xtrain_5_1, ytrain_5_1,  learning_rate, epochs , Xtest_5_1 , ytest_5_1)\n",
    "theta = PlotRidge(Xtrain_5_2, ytrain_5_2,  learning_rate, epochs, Xtest_5_2 , ytest_5_2)\n",
    "theta = PlotRidge(Xtrain_5_2, ytrain_5_2,  learning_rate, epochs, Xtest_5_3 , ytest_5_3)\n",
    "theta = PlotRidge(Xtrain_5_2, ytrain_5_2,  learning_rate, epochs, Xtest_5_4 , ytest_5_4)\n",
    "theta = PlotRidge(Xtrain_5_2, ytrain_5_2,  learning_rate, epochs, Xtest_5_5 , ytest_5_5)\n"
   ]
  },
  {
   "cell_type": "markdown",
   "metadata": {},
   "source": [
    "#### (d) Implement the normal equation (closed form) for linear regression"
   ]
  },
  {
   "cell_type": "code",
   "execution_count": 112,
   "metadata": {},
   "outputs": [],
   "source": [
    "def Normal(X, Y, learning_rate, epochs):\n",
    "    \n",
    "    theta = np.ones((X.shape[1], 1)) \n",
    "\n",
    "    theta = ( np.linalg.inv((X.T.dot(X))) ).dot(X.T).dot(Y)   ## Implemented the Normal equation\n",
    "\n",
    "    return theta\n",
    "\n",
    "def check_error(X_test , Y_test , theta):\n",
    "    \n",
    "    y_pred = np.dot(X_test, theta)\n",
    "\n",
    "    print(\"RMSE Error (validation loss) is \")\n",
    "    print((np.sum(((abs(Y_test - y_pred))**2))/Y_test.shape[0])**0.5)\n",
    "    return ((np.sum(((abs(Y_test - y_pred))**2))/Y_test.shape[0])**0.5)\n",
    "\n",
    "error_5_1=0\n",
    "\n",
    "# W = (XT.X)^-1.XT.Y\n",
    "# Where W is our Theta. \n",
    "\n",
    "\n",
    "# Here we have used the Normal equation to find the value of theta and used it to find the predicted values.\n",
    "\n"
   ]
  },
  {
   "cell_type": "code",
   "execution_count": 113,
   "metadata": {},
   "outputs": [
    {
     "name": "stdout",
     "output_type": "stream",
     "text": [
      "RMSE Error (validation loss) is \n",
      "7.787734153468953\n"
     ]
    }
   ],
   "source": [
    "theta = Normal(Xtrain_5_1, ytrain_5_1,  learning_rate, epochs)\n",
    "error_5_1 = error_5_1 +check_error(Xtest_5_1 , ytest_5_1 ,  theta)"
   ]
  },
  {
   "cell_type": "code",
   "execution_count": 114,
   "metadata": {},
   "outputs": [
    {
     "name": "stdout",
     "output_type": "stream",
     "text": [
      "RMSE Error (validation loss) is \n",
      "11.67918817407055\n"
     ]
    }
   ],
   "source": [
    "theta = Normal(Xtrain_5_2, ytrain_5_2,  learning_rate, epochs)\n",
    "error_5_1 = error_5_1 +check_error(Xtest_5_2 , ytest_5_2 ,  theta)"
   ]
  },
  {
   "cell_type": "code",
   "execution_count": 115,
   "metadata": {},
   "outputs": [
    {
     "name": "stdout",
     "output_type": "stream",
     "text": [
      "RMSE Error (validation loss) is \n",
      "7.628155508171655\n"
     ]
    }
   ],
   "source": [
    "theta = Normal(Xtrain_5_3, ytrain_5_3,  learning_rate, epochs)\n",
    "error_5_1 = error_5_1 +check_error(Xtest_5_3 , ytest_5_3 ,  theta)"
   ]
  },
  {
   "cell_type": "code",
   "execution_count": 116,
   "metadata": {},
   "outputs": [
    {
     "name": "stdout",
     "output_type": "stream",
     "text": [
      "RMSE Error (validation loss) is \n",
      "9.428225030142785\n"
     ]
    }
   ],
   "source": [
    "theta = Normal(Xtrain_5_4, ytrain_5_4,  learning_rate, epochs)\n",
    "error_5_1 = error_5_1 +check_error(Xtest_5_4 , ytest_5_4 ,  theta)"
   ]
  },
  {
   "cell_type": "code",
   "execution_count": 117,
   "metadata": {},
   "outputs": [
    {
     "name": "stdout",
     "output_type": "stream",
     "text": [
      "RMSE Error (validation loss) is \n",
      "7.2114321750311055\n"
     ]
    }
   ],
   "source": [
    "theta = Normal(Xtrain_5_5, ytrain_5_5,  learning_rate, epochs)\n",
    "error_5_1 = error_5_1 +check_error(Xtest_5_5 , ytest_5_5 ,  theta)"
   ]
  },
  {
   "cell_type": "code",
   "execution_count": 118,
   "metadata": {},
   "outputs": [
    {
     "name": "stdout",
     "output_type": "stream",
     "text": [
      "The MEAN RMSE error for Normal Equation for K = 5 is 8.74694700817701%\n"
     ]
    }
   ],
   "source": [
    "print(\"The MEAN RMSE error for Normal Equation for K = 5 is \"+str(error_5_1/5)+\"%\")"
   ]
  }
 ],
 "metadata": {
  "colab": {
   "provenance": []
  },
  "kernelspec": {
   "display_name": "Python 3 (ipykernel)",
   "language": "python",
   "name": "python3"
  },
  "language_info": {
   "codemirror_mode": {
    "name": "ipython",
    "version": 3
   },
   "file_extension": ".py",
   "mimetype": "text/x-python",
   "name": "python",
   "nbconvert_exporter": "python",
   "pygments_lexer": "ipython3",
   "version": "3.9.12"
  },
  "vscode": {
   "interpreter": {
    "hash": "77df3a5ebd1cef01dee7bc6ed82b7377cfd852bb783257559a7f51931db89a34"
   }
  }
 },
 "nbformat": 4,
 "nbformat_minor": 1
}
